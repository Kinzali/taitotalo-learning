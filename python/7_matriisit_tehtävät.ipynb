{
 "cells": [
  {
   "cell_type": "markdown",
   "metadata": {},
   "source": [
    "3.3.2023    7/11"
   ]
  },
  {
   "cell_type": "markdown",
   "metadata": {},
   "source": [
    "# Matriisit ja viittaukset"
   ]
  },
  {
   "cell_type": "markdown",
   "metadata": {},
   "source": [
    "## tavoitteet \n",
    "\n",
    "- osaa luoda tallentaa matriisin kaksiulotteisena listana\n",
    "- osaa laskea matriisin rivien ja sarakkeiden summan\n",
    "- osaa hakea ja muuttaa matriisin alkion\n"
   ]
  },
  {
   "cell_type": "markdown",
   "metadata": {},
   "source": [
    "parametrin ylikirjoittaminen ja liian aikainen return\n",
    "\n",
    "https://ohjelmointi-23.mooc.fi/osa-5/1-lisaa-listoja"
   ]
  },
  {
   "cell_type": "markdown",
   "metadata": {},
   "source": [
    "useampi viittaus samaan listaan ja funktioiden sivuvaikutukset\n",
    "\n",
    "https://ohjelmointi-23.mooc.fi/osa-5/2-viittaukset"
   ]
  },
  {
   "cell_type": "markdown",
   "metadata": {},
   "source": [
    "TEHT 1. Pisin / Mooc\n",
    "\n",
    "Tee funktio pisin(merkkijonot: list), joka saa parametrikseen listan merkkijonoja. Funktio etsii ja palauttaa listalta pisimmän merkkijonon. Voit olettaa, että vain yksi jonoista on pisin.\n",
    "\n",
    "Esimerkkikutsu:\n",
    "\n",
    "\n",
    "if __name__ == \"__main__\":\n",
    "\n",
    "    jonot = [\"moi\", \"moikka\", \"heip\", \"hellurei\", \"terve\"]\n",
    "\n",
    "    print(pisin(jonot))\n",
    "\n",
    "Esimerkkitulostus\n",
    "\n",
    "hellurei"
   ]
  },
  {
   "cell_type": "code",
   "execution_count": null,
   "metadata": {},
   "outputs": [],
   "source": [
    "#teht"
   ]
  },
  {
   "cell_type": "markdown",
   "metadata": {},
   "source": [
    "## Matriisit"
   ]
  },
  {
   "cell_type": "markdown",
   "metadata": {},
   "source": [
    "Matriisi on kaksiulotteinen taulukko. Matriisin luodaan sisäkkäisillä listoilla.\n",
    "\n",
    "matriisi = [ [1,2,3], [4,5,6,], [7,8,9,] ]\n",
    "\n",
    "| 1 | 2 | 3 |\n",
    "|---|---|---|\n",
    "|  4 |  5 |  6 |\n",
    "|  7 |  8 | 9  |\n",
    "\n",
    " "
   ]
  },
  {
   "cell_type": "code",
   "execution_count": null,
   "metadata": {},
   "outputs": [],
   "source": [
    "matriisi = [[1,2,3], [4,5,6,], [7,8,9,]]\n",
    "matriisi"
   ]
  },
  {
   "cell_type": "markdown",
   "metadata": {},
   "source": [
    "Matriisiin alkioon viitataan käyttämällä hakasulkuja.\n",
    "\n",
    "Ensimmäinen indeksi viittaa riviin ja toinen sarakkeeseen."
   ]
  },
  {
   "cell_type": "code",
   "execution_count": null,
   "metadata": {},
   "outputs": [],
   "source": [
    "print(matriisi[0][1])"
   ]
  },
  {
   "cell_type": "markdown",
   "metadata": {},
   "source": [
    "Matriisin alkiota voi muuttaa paikallistamalla rivinumeron ja sarakenumeron."
   ]
  },
  {
   "cell_type": "code",
   "execution_count": null,
   "metadata": {},
   "outputs": [],
   "source": [
    "# muuta lukua\n",
    "print(matriisi)\n",
    "matriisi[2][2] = 10\n",
    "print(matriisi)"
   ]
  },
  {
   "cell_type": "markdown",
   "metadata": {},
   "source": [
    "Matriisin voi käydä läpi for-loopilla. Tällöin matriisi tulostuu riveittäin."
   ]
  },
  {
   "cell_type": "code",
   "execution_count": null,
   "metadata": {},
   "outputs": [],
   "source": [
    "# tulostaa alilistat/rivit allekkain\n",
    "\n",
    "for rivi in matriisi:\n",
    "    print(rivi)"
   ]
  },
  {
   "cell_type": "markdown",
   "metadata": {},
   "source": [
    "Alkiot voi tulostaa yksitellen kahden sisäkkäisen  for-loopin avulla."
   ]
  },
  {
   "cell_type": "code",
   "execution_count": null,
   "metadata": {},
   "outputs": [],
   "source": [
    "for rivi in matriisi:\n",
    "    print('rivi')\n",
    "    for alkio in rivi:\n",
    "        print(alkio)"
   ]
  },
  {
   "cell_type": "markdown",
   "metadata": {},
   "source": [
    "Lasketaan alilistan /rivin alkioiden summa."
   ]
  },
  {
   "cell_type": "code",
   "execution_count": null,
   "metadata": {},
   "outputs": [],
   "source": [
    "def rivin_alkioiden_summa(matriisi, rivi_nro: int):\n",
    "    # tarkasteluun valitaan yksi rivi\n",
    "    rivi = matriisi[rivi_nro]\n",
    "    print(matriisi.index(rivi))\n",
    "    summa = 0\n",
    "    for alkio in rivi:\n",
    "        summa += alkio\n",
    "\n",
    "    return summa\n",
    "\n",
    "matriisi = [\n",
    "    [1,2,3], \n",
    "    [4,5,6], \n",
    "    [7,8,9,]\n",
    "]\n",
    "\n",
    "for i in matriisi:\n",
    "    print(i)\n",
    "\n",
    "summa = rivin_alkioiden_summa(matriisi, 2)\n",
    "print(summa) # tulostuu 24 (saadaan laskemalla 7 + 8 + 9)\n"
   ]
  },
  {
   "cell_type": "markdown",
   "metadata": {},
   "source": [
    "Lasketaan sarakkeen alkioiden summa."
   ]
  },
  {
   "cell_type": "code",
   "execution_count": null,
   "metadata": {},
   "outputs": [],
   "source": [
    "def sarakkeen_alkioiden_summa(matriisi, sarake_nro: int):\n",
    "    # summaan lisätään kaikkien rivien halutussa kohdassa oleva alkio\n",
    "    summa = 0\n",
    "    for rivi in matriisi:\n",
    "        print(sarake_nro)\n",
    "        summa += rivi[sarake_nro]\n",
    "    return summa\n",
    "\n",
    "matriisi = [\n",
    "    [1,2,3], \n",
    "    [4,5,6], \n",
    "    [7,8,9,]\n",
    "]\n",
    "for i in matriisi:\n",
    "    print(i)\n",
    "\n",
    "summa = sarakkeen_alkioiden_summa(matriisi, 2)\n",
    "print(summa) # tulostuu 18 (saadaan laskemalla 3 + 6 + 9)"
   ]
  },
  {
   "cell_type": "markdown",
   "metadata": {},
   "source": [
    "vaihda yhden alkion arvoa"
   ]
  },
  {
   "cell_type": "code",
   "execution_count": null,
   "metadata": {},
   "outputs": [],
   "source": [
    "def vaihda_arvoon(matriisi, rivi_nro: int, sarake_nro: int, arvo: int):\n",
    "    # haetaan oikea rivi\n",
    "    rivi = matriisi[rivi_nro]\n",
    "    # ja sen sisältä oikea sarake\n",
    "    rivi[sarake_nro] = arvo\n",
    "\n",
    "matriisi = [\n",
    "    [1,2,3], \n",
    "    [4,5,6], \n",
    "    [7,8,9,]\n",
    "]\n",
    "\n",
    "for i in matriisi:\n",
    "    print(i)\n",
    "    \n",
    "vaihda_arvoon(matriisi, 1, 2, 100)\n",
    "print('Arvo vaihdettu:')\n",
    "for i in matriisi:\n",
    "    print(i)"
   ]
  },
  {
   "cell_type": "markdown",
   "metadata": {},
   "source": [
    "Koko listaa / matriisia voidaan muokata kerralla"
   ]
  },
  {
   "cell_type": "code",
   "execution_count": null,
   "metadata": {},
   "outputs": [],
   "source": [
    "matriisi = [[1,2,3], [4,5,6], [7,8,9]]\n",
    "\n",
    "for rivi in matriisi:\n",
    "    print(rivi)\n",
    "\n",
    "for rivi in range(len(matriisi)):\n",
    "    print('rivi')\n",
    "    for sarake in range(len(matriisi[rivi])):\n",
    "        matriisi[rivi][sarake] *= 2\n",
    "        print(rivi, sarake)        \n",
    "\n",
    "for rivi in matriisi:\n",
    "    print(rivi)"
   ]
  },
  {
   "cell_type": "markdown",
   "metadata": {},
   "source": [
    "Teht 2. Alkioiden määrä /MOOC\n",
    "\n",
    "Tee funktio laske_alkiot(matriisi: list, alkio: int), joka saa parametrikseen kaksiulotteisen kokonaislukutaulukon. Funktio laskee, kuinka monta annetun alkion mukaista arvoa taulukosta löytyy.\n",
    "\n",
    "Esimerkiksi\n",
    "\n",
    "    m = [[1, 2, 1], [0, 3, 4], [1, 0, 0]]\n",
    "    print(laske_alkiot(m, 1))\n",
    "\n",
    "esimerkkitulostus\n",
    "\n",
    "    3"
   ]
  },
  {
   "cell_type": "code",
   "execution_count": null,
   "metadata": {},
   "outputs": [],
   "source": [
    "#teht"
   ]
  },
  {
   "cell_type": "markdown",
   "metadata": {},
   "source": [
    "tulosta sudoku"
   ]
  },
  {
   "cell_type": "code",
   "execution_count": null,
   "metadata": {},
   "outputs": [],
   "source": [
    "def tulosta(sudoku):\n",
    "    for rivi in sudoku:\n",
    "        for luku in rivi:\n",
    "            if luku > 0:\n",
    "                print(f\" {luku}\", end=\"\")\n",
    "            else:\n",
    "                print(\" _\", end=\"\")\n",
    "        print()\n",
    "\n",
    "sudoku = [\n",
    "  [9, 0, 0, 0, 8, 0, 3, 0, 0],\n",
    "  [0, 0, 0, 2, 5, 0, 7, 0, 0],\n",
    "  [0, 2, 0, 3, 0, 0, 0, 0, 4],\n",
    "  [0, 9, 4, 0, 0, 0, 0, 0, 0],\n",
    "  [0, 0, 0, 7, 3, 0, 5, 6, 0],\n",
    "  [7, 0, 5, 0, 6, 0, 4, 0, 0],\n",
    "  [0, 0, 7, 8, 0, 3, 9, 0, 0],\n",
    "  [0, 0, 1, 0, 0, 0, 0, 0, 3],\n",
    "  [3, 0, 0, 0, 0, 0, 0, 0, 2]\n",
    "]\n",
    "\n",
    "tulosta(sudoku)"
   ]
  },
  {
   "cell_type": "markdown",
   "metadata": {},
   "source": [
    "Teht 3. Sudoku: rivit oikein\n",
    "\n",
    "Tee funktio rivi_oikein(sudoku: list, rivi_nro: int), joka saa parametriksi sudokuruudukkoa esittävän kaksiulotteisen taulukon ja rivin numeron kertovan kokonaisluvun (rivit on numeroitu nollasta alkaen). Metodi palauttaa tiedon, onko rivi oikein täytetty eli onko siinä kukin luvuista 1–9 korkeintaan kerran.\n",
    "\n",
    "    sudoku = [\n",
    "    [9, 0, 0, 0, 8, 0, 3, 0, 0],\n",
    "    [2, 0, 0, 2, 5, 0, 7, 0, 0],\n",
    "    [0, 2, 0, 3, 0, 0, 0, 0, 4],\n",
    "    [5, 9, 4, 0, 0, 0, 0, 0, 0],\n",
    "    [0, 0, 0, 7, 3, 0, 5, 6, 0],\n",
    "    [7, 0, 5, 0, 6, 0, 4, 0, 0],\n",
    "    [0, 0, 7, 8, 0, 3, 9, 0, 0],\n",
    "    [0, 0, 1, 0, 0, 0, 0, 0, 3],\n",
    "    [3, 0, 5, 0, 0, 0, 0, 0, 2]\n",
    "    ]\n",
    "\n",
    "    print(rivi_oikein(sudoku, 0))\n",
    "    print(rivi_oikein(sudoku, 1))\n",
    "    Esimerkkitulostus\n",
    "        True\n",
    "        False\n",
    "    \n",
    "    Toinen rivi on False eli ehto ei toteudu, koska rivillä on numero 2 kahteen kertaan."
   ]
  },
  {
   "cell_type": "code",
   "execution_count": null,
   "metadata": {},
   "outputs": [],
   "source": [
    "#teht"
   ]
  },
  {
   "cell_type": "markdown",
   "metadata": {},
   "source": [
    "TEHT 4. Sudoku: sarakkeet oikein / MOOC\n",
    "\n",
    "Tee funktio sarake_oikein(sudoku: list, sarake_nro: int), joka saa parametriksi sudokuruudukkoa esittävän kaksiulotteisen taulukon ja sarakkeen (eli pystyrivin) numeron kertovan kokonaisluvun. Metodi palauttaa tiedon, onko sarake oikein täytetty eli onko siinä kukin luvuista 1–9 korkeintaan kerran.\n",
    "\n",
    "    sudoku = [\n",
    "      [9, 0, 0, 0, 8, 0, 3, 0, 0],\n",
    "      [2, 0, 0, 2, 5, 0, 7, 0, 0],\n",
    "      [0, 2, 0, 3, 0, 0, 0, 0, 4],\n",
    "      [5, 9, 4, 0, 0, 0, 0, 0, 0],\n",
    "      [0, 0, 0, 7, 3, 0, 5, 6, 0],\n",
    "      [7, 0, 5, 0, 6, 0, 4, 0, 0],\n",
    "      [0, 0, 7, 8, 0, 3, 9, 0, 0],\n",
    "      [0, 0, 1, 0, 0, 0, 0, 0, 3],\n",
    "      [3, 0, 5, 0, 0, 0, 0, 0, 2]\n",
    "    ]\n",
    "\n",
    "    print(sarake_oikein(sudoku, 0))\n",
    "    print(sarake_oikein(sudoku, 1))\n",
    "    print(sarake_oikein(sudoku, 2))\n",
    "    \n",
    "    Esimerkkitulostus\n",
    "      True\n",
    "      True\n",
    "      False\n",
    "      "
   ]
  },
  {
   "cell_type": "code",
   "execution_count": null,
   "metadata": {},
   "outputs": [],
   "source": [
    "#teht"
   ]
  },
  {
   "cell_type": "markdown",
   "metadata": {},
   "source": [
    "Teht 5. Sudoku: ruudukon tulostus ja luvun lisäys / MOOC\n",
    "\n",
    "Tässä tehtävässä toteutetaan vielä kaksi funktiota sudokua varten: tulosta ja lisays.\n",
    "\n",
    "Funktio tulosta saa parametriksi sudokuruudukkoa esittävän kaksiulotteisen listan ja tulostaa sen alla olevan esimerkkitulostuksen mukaisessa muodossa.\n",
    "\n",
    "Funktio lisays(sudoku: list, rivi_nro: int, sarake_nro: int, luku:int) saa parametriksi sudokuruudukkoa esittävän kaksiulotteisen listan, rivi- ja sarakenumerot sekä luvun väliltä 1–9. Funktio lisää luvun parametrien ilmoittamaan kohtaan sudokuruudukkoa.\n",
    "\n",
    "Esimerkkitulostus:\n",
    "\n",
    "    _ _ _  _ _ _  _ _ _ \n",
    "    _ _ _  _ _ _  _ _ _ \n",
    "    _ _ _  _ _ _  _ _ _ \n",
    "\n",
    "    _ _ _  _ _ _  _ _ _ \n",
    "    _ _ _  _ _ _  _ _ _ \n",
    "    _ _ _  _ _ _  _ _ _ \n",
    "\n",
    "    _ _ _  _ _ _  _ _ _ \n",
    "    _ _ _  _ _ _  _ _ _ \n",
    "    _ _ _  _ _ _  _ _ _ \n",
    "\n",
    "\n",
    "Kolme numeroa lisätty:\n",
    "\n",
    "    2 _ _  _ _ _  _ _ _ \n",
    "    _ _ 7  _ _ _  _ _ _ \n",
    "    _ _ _  _ _ _  _ _ _ \n",
    "\n",
    "    _ _ _  _ _ _  _ _ _ \n",
    "    _ _ _  _ _ _  _ _ _ \n",
    "    _ _ _  _ _ _  _ 3 _ \n",
    "\n",
    "    _ _ _  _ _ _  _ _ _ \n",
    "    _ _ _  _ _ _  _ _ _ \n",
    "    _ _ _  _ _ _  _ _ _ "
   ]
  },
  {
   "cell_type": "code",
   "execution_count": null,
   "metadata": {},
   "outputs": [],
   "source": [
    "#tehtäväpohja \n",
    "# sudoku  = [\n",
    "#     [0, 0, 0, 0, 0, 0, 0, 0, 0],\n",
    "#     [0, 0, 0, 0, 0, 0, 0, 0, 0],\n",
    "#     [0, 0, 0, 0, 0, 0, 0, 0, 0],\n",
    "#     [0, 0, 0, 0, 0, 0, 0, 0, 0],\n",
    "#     [0, 0, 0, 0, 0, 0, 0, 0, 0],\n",
    "#     [0, 0, 0, 0, 0, 0, 0, 0, 0],\n",
    "#     [0, 0, 0, 0, 0, 0, 0, 0, 0],\n",
    "#     [0, 0, 0, 0, 0, 0, 0, 0, 0],\n",
    "#     [0, 0, 0, 0, 0, 0, 0, 0, 0]\n",
    "# ]\n",
    "\n",
    "# tulosta(sudoku)\n",
    "# lisays(sudoku, 0, 0, 2)\n",
    "# lisays(sudoku, 1, 2, 7)\n",
    "# lisays(sudoku, 5, 7, 3)\n",
    "# print()\n",
    "# print(\"Kolme numeroa lisätty:\")\n",
    "# print()\n",
    "# tulosta(sudoku)\n"
   ]
  },
  {
   "cell_type": "code",
   "execution_count": null,
   "metadata": {},
   "outputs": [],
   "source": [
    "#teht"
   ]
  },
  {
   "cell_type": "markdown",
   "metadata": {},
   "source": [
    "\n",
    "Teht. 6  Ristinolla / MOOC\n",
    "\n",
    "Ristinollaa pelataan 3 x 3 -kokoisella ruudukolla, johon pelaajat merkitsevät vuorotellen ristin tai nollan. Pelin voittaa se pelaaja, joka saa ensimmäisenä kolme merkkiä pystyyn, vaakaan tai kulmittain. Peli päättyy tasapeliin, jos kumpikaan pelaaja ei saa kolmen sarjaa.\n",
    "\n",
    "Kirjoita funktio pelaa_siirto(lauta: list, x: int, y: int, nappula: str), jossa sijoitetaan annettu pelinappula annettuihin koordinaatteihin pelilaudalla. Koordinaattien arvot ovat väliltä 0..2.\n",
    "\n",
    "Huomaa että tässä tehtävässä parametrit ovat eri päin kuin sudokussa, ensin annetaan saraketta kuvaava x ja sen jälkeen riviä kuvaava y.\n",
    "\n",
    "Pelilauta koostuu merkkijonoista seuraavasti:\n",
    "\n",
    "    \"\": tyhjä ruutu\n",
    "\n",
    "    \"X\": pelaajan 1 merkki\n",
    "\n",
    "    \"O\": pelaajan 2 merkki\n",
    "\n",
    "Funktio palauttaa arvon True, jos nappula saatiin sijoitettua laudalle (eli jos paikka oli tyhjä), ja arvon False, jos paikka oli varattu TAI jos koordinaatin arvo oli liian pieni tai suuri (eli ei väliltä 0..2)."
   ]
  },
  {
   "cell_type": "markdown",
   "metadata": {},
   "source": [
    "Esimerkiksi:\n",
    "\n",
    "    lauta = [[\"\", \"\", \"\"], [\"\", \"\", \"\"], [\"\", \"\", \"\"]]\n",
    "    print(pelaa_siirto(lauta, 2, 0, \"X\"))\n",
    "    print(lauta)\n",
    "\n",
    "esimerkki tulostus:\n",
    "\n",
    "    True\n",
    "    [['', '', 'X'], ['', '', ''], ['', '', '']]\n",
    "\n"
   ]
  },
  {
   "cell_type": "code",
   "execution_count": null,
   "metadata": {},
   "outputs": [],
   "source": [
    "#teht"
   ]
  },
  {
   "cell_type": "markdown",
   "metadata": {},
   "source": [
    "Teht 7. Transponointi eli matriisin kääntö / MOOC\n",
    "\n",
    "Kirjoita funktio transponoi(matriisi: list), joka saa parametrikseen kaksiulotteisen kokonaislukuja sisältävän taulukon eli matriisin. Funktio transponoi matriisin eli muuntaa rivit sarakkeiksi ja sarakkeet riveiksi.\n",
    "\n",
    "Voit olettaa, että matriisissa on yhtä monta riviä kuin sarakettakin (eli matriisi on neliömatriisi).\n",
    "\n",
    "Esimerkiksi matriisista\n",
    "\n",
    "    1 2 3\n",
    "    4 5 6\n",
    "    7 8 9\n",
    "\n",
    "tulisi transponoinnin jälkeen tällainen:\n",
    "\n",
    "    1 4 7\n",
    "    2 5 8\n",
    "    3 6 9\n",
    "    \n",
    "Funktio ei palauta mitään, vaan muokkaa parametrinaan saamaansa matriisia."
   ]
  },
  {
   "cell_type": "code",
   "execution_count": null,
   "metadata": {},
   "outputs": [],
   "source": [
    "# teht"
   ]
  },
  {
   "cell_type": "markdown",
   "metadata": {},
   "source": [
    "Lisäharjoitus:\n",
    "\n",
    "https://www.practicepython.org/exercise/2015/11/16/26-check-tic-tac-toe.html\n",
    "\n",
    "Tehtävän voi tehdä neljässä osassa. Linkki vie osaan 2. Voit halutessasi aloittaa osasta 1. "
   ]
  }
 ],
 "metadata": {
  "kernelspec": {
   "display_name": "taitotalo-dev",
   "language": "python",
   "name": "python3"
  },
  "language_info": {
   "codemirror_mode": {
    "name": "ipython",
    "version": 3
   },
   "file_extension": ".py",
   "mimetype": "text/x-python",
   "name": "python",
   "nbconvert_exporter": "python",
   "pygments_lexer": "ipython3",
   "version": "3.11.2 (main, Feb 24 2023, 18:52:58) [Clang 12.0.5 (clang-1205.0.22.9)]"
  },
  "vscode": {
   "interpreter": {
    "hash": "d62ef264c69dabbbf1d47a071df352db9c2d803dd2c5e607d15b5ea16ac61f4b"
   }
  }
 },
 "nbformat": 4,
 "nbformat_minor": 2
}
