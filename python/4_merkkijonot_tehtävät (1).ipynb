{
 "cells": [
  {
   "attachments": {},
   "cell_type": "markdown",
   "metadata": {},
   "source": [
    "23.2.2023, 4/11"
   ]
  },
  {
   "attachments": {},
   "cell_type": "markdown",
   "metadata": {},
   "source": [
    "# Merkkijonot - String - str()"
   ]
  },
  {
   "attachments": {},
   "cell_type": "markdown",
   "metadata": {},
   "source": [
    "tavoitteet:\n",
    "\n",
    "- osaa tarkistaa merkkijonon pituuden\n",
    "- osaa tulostaa merkkijonon merkit for-loopilla\n",
    "- osaa muokata lukuarvon merkkijonoksi esimerkiksi tulostusta varten\n",
    "- käyttää operaattoreita + ja * merkkijonojen kanssa\n",
    "- ymmärtää, miten merkkijonoa voi käsitellä  indeksin avulla\n",
    "- osaa etsiä osajonoja ja laskea niiden määrän merkkijonosta\n",
    "- osaa etsiä ja muokata isoja ja pieniä alkukirjaimia\n",
    "- tuntee muutamia merkkijonon käsittelyyn tarkoitettuja metodeja\n",
    "\n",
    "\n",
    "merkkijonometodeja:\n",
    "\n",
    "https://www.w3schools.com/python/python_strings_methods.asp"
   ]
  },
  {
   "attachments": {},
   "cell_type": "markdown",
   "metadata": {},
   "source": [
    "Metodit:\n",
    "\n",
    "- find(), rfind()\n",
    "- count()\n",
    "- join()\n",
    "- reversed()\n",
    "- title()\n",
    "- lower()\n",
    "- upper()\n",
    "- islower()\n",
    "- isupper()\n",
    "- isdigit()\n",
    "- isalpha()\n",
    "- split()\n",
    "- strip()\n",
    "- rstrip()\n",
    "- lstrip()\n",
    "- replace()"
   ]
  },
  {
   "cell_type": "markdown",
   "metadata": {},
   "source": [
    "# Kertausta"
   ]
  },
  {
   "cell_type": "code",
   "execution_count": 1,
   "metadata": {},
   "outputs": [
    {
     "name": "stdout",
     "output_type": "stream",
     "text": [
      "esimerkki\n"
     ]
    }
   ],
   "source": [
    "# muuttuja ja tulostus\n",
    "esim = \"esimerkki\"\n",
    "print(esim)"
   ]
  },
  {
   "cell_type": "code",
   "execution_count": 2,
   "metadata": {},
   "outputs": [
    {
     "data": {
      "text/plain": [
       "9"
      ]
     },
     "execution_count": 2,
     "metadata": {},
     "output_type": "execute_result"
    }
   ],
   "source": [
    "# sanan pituus\n",
    "len(esim)"
   ]
  },
  {
   "cell_type": "code",
   "execution_count": 3,
   "metadata": {},
   "outputs": [
    {
     "name": "stdout",
     "output_type": "stream",
     "text": [
      "m\n",
      "e\n",
      "r\n",
      "k\n",
      "k\n",
      "i\n",
      "j\n",
      "o\n",
      "n\n",
      "o\n"
     ]
    }
   ],
   "source": [
    "# for loop\n",
    "\n",
    "for i in \"merkkijono\":\n",
    "    print(i)"
   ]
  },
  {
   "cell_type": "code",
   "execution_count": 4,
   "metadata": {},
   "outputs": [
    {
     "data": {
      "text/plain": [
       "'1'"
      ]
     },
     "execution_count": 4,
     "metadata": {},
     "output_type": "execute_result"
    }
   ],
   "source": [
    "# muuttaa jonkun arvon stringiksi, tarvitaan esim tulostuksissa\n",
    "str(1)"
   ]
  },
  {
   "cell_type": "code",
   "execution_count": 5,
   "metadata": {},
   "outputs": [
    {
     "name": "stdout",
     "output_type": "stream",
     "text": [
      "esimerkkiesimerkkiesimerkki\n"
     ]
    }
   ],
   "source": [
    "# voi yhdistää operaattoreilla\n",
    "\n",
    "esim2 = esim*3\n",
    "print(esim2)"
   ]
  },
  {
   "cell_type": "code",
   "execution_count": 6,
   "metadata": {},
   "outputs": [
    {
     "name": "stdout",
     "output_type": "stream",
     "text": [
      "Twinkle, twinkle, little star, \n",
      "    How I wonder what you are!\n",
      "            Up above the world so high, \n",
      "            Like a diamond in the sky. \n",
      "Twinkle, twinkle, little star, \n",
      "    How I wonder what you are\n"
     ]
    }
   ],
   "source": [
    "# tulostus usealle riville joko \"\"\" \"\"\" tai hipsut\n",
    "\n",
    "print(\"\"\"Twinkle, twinkle, little star, \n",
    "    How I wonder what you are!\n",
    "            Up above the world so high, \n",
    "            Like a diamond in the sky. \n",
    "Twinkle, twinkle, little star, \n",
    "    How I wonder what you are\"\"\")"
   ]
  },
  {
   "cell_type": "markdown",
   "metadata": {},
   "source": [
    "# merkkijonon indeksi\n",
    "\n",
    "sana = \"merkkijono\"\n",
    "\n",
    "indeksi \n",
    "0 | 1 | 2| 3 | 4| 5 |6 | 7| 8 | 9\n",
    ":----: | :----: | :----: | :----: | :----: | :----: | :----:| :----: | :----: | :----:\n",
    "m | e| r | k| k |i | j| o| n | o"
   ]
  },
  {
   "cell_type": "code",
   "execution_count": 7,
   "metadata": {},
   "outputs": [
    {
     "name": "stdout",
     "output_type": "stream",
     "text": [
      "a\n",
      "n\n",
      "a\n"
     ]
    }
   ],
   "source": [
    "# Esim. merkkijono jos hei, niin mitä tapahtuu?\n",
    "\n",
    "sana = input(\"Anna merkkijono: \")\n",
    "print(sana[0]) # ensimmäinen\n",
    "print(sana[1])\n",
    "#print(sana[3]) # jos  esim 'hei'  > IndexError: string index out of range\n",
    "print(sana[len(sana)-1]) # viimeinen"
   ]
  },
  {
   "cell_type": "markdown",
   "metadata": {},
   "source": [
    "# negatiivinen indeksi\n",
    "\n",
    "sana = \"merkkijono\"\n",
    "\n",
    "indeksi \n",
    "-10 |-9 | -8 | -7| -6 | -5|-4 |-3 | -2 | -1\n",
    ":----: | :----: | :----: | :----: | :----: | :----: | :----:| :----: | :----: | :----:\n",
    "m | e| r | k| k |i | j| o| n | o\n"
   ]
  },
  {
   "cell_type": "code",
   "execution_count": 8,
   "metadata": {},
   "outputs": [
    {
     "name": "stdout",
     "output_type": "stream",
     "text": [
      "i\n",
      "k\n",
      "m\n"
     ]
    }
   ],
   "source": [
    "# Esim. \n",
    "\n",
    "sana = \"esimerkki\" #input(\"Anna merkkijono: \")\n",
    "print(sana[-1]) \n",
    "print(sana[-3])\n",
    "print(sana[-6]) "
   ]
  },
  {
   "attachments": {},
   "cell_type": "markdown",
   "metadata": {},
   "source": [
    "TEHT 1. Lopusta alkuun / MOOC\n",
    "\n",
    "Kirjoita ohjelma, joka kysyy käyttäjältä merkkijonon ja tulostaa sitten merkkijonon merkit allekkain käänteisessä järjestyksessä lopusta alkuun.\n",
    "\n",
    "Esimerkkisuoritus:\n",
    "\n",
    "Anna merkkijono: heippa\n",
    "\n",
    "    a\n",
    "    p\n",
    "    p\n",
    "    i\n",
    "    e\n",
    "    h"
   ]
  },
  {
   "cell_type": "code",
   "execution_count": 9,
   "metadata": {},
   "outputs": [],
   "source": [
    "# tee tehtävä tähän"
   ]
  },
  {
   "attachments": {},
   "cell_type": "markdown",
   "metadata": {},
   "source": [
    "TEHT 2.  Risuaitaviiva /MOOC\n",
    "\n",
    "Tee ohjelma, joka piirtää käyttäjän määräämän levyisen risuaitaviivan.\n",
    "\n",
    "Esimerkkitulostus\n",
    "\n",
    "    Leveys: 3\n",
    "    ###\n",
    "    Leveys: 8\n",
    "    ########"
   ]
  },
  {
   "cell_type": "code",
   "execution_count": 11,
   "metadata": {},
   "outputs": [],
   "source": [
    "#teht"
   ]
  },
  {
   "attachments": {},
   "cell_type": "markdown",
   "metadata": {},
   "source": [
    "TEHT 3.  Risuaitaviiva 2 /MOOC\n",
    "\n",
    "Tee ohjelma, joka piirtää käyttäjän syötteillä määräämän levyisen ja korkuisen risuaitaviivan.\n",
    "\n",
    "Esimerkkitulostus\n",
    "\n",
    "    Leveys: 8\n",
    "    Korkeus: 3\n",
    "    ########\n",
    "    ########\n",
    "    ########"
   ]
  },
  {
   "cell_type": "code",
   "execution_count": 13,
   "metadata": {},
   "outputs": [],
   "source": [
    "#teht"
   ]
  },
  {
   "attachments": {},
   "cell_type": "markdown",
   "metadata": {},
   "source": [
    "TEHT 4. Alleviivaus / MOOC\n",
    "\n",
    "Tee ohjelma, joka pyytää käyttäjältä merkkijonoja ja tulostaa kunkin merkkijonon oheisen esimerkin mukaisesti alleviivattuna. Ohjelman suoritus päättyy, kun käyttäjä syöttää tyhjän merkkijonon, eli merkkijonon jonka pituus on 0.\n",
    "\n",
    "Esimerkkitulostus\n",
    "\n",
    "Anna merkkijono: Moi kaikki!\n",
    "\n",
    "Moi kaikki!\n",
    "\n",
    "`-----------`\n",
    "\n",
    "Anna merkkijono: Tämä on testijono\n",
    "\n",
    "Tämä on testijono\n",
    "\n",
    "`-----------------`\n",
    "\n",
    "Anna merkkijono: a\n",
    "\n",
    "a\n",
    "\n",
    "`-`\n",
    "\n",
    "Anna merkkijono:"
   ]
  },
  {
   "cell_type": "code",
   "execution_count": 15,
   "metadata": {},
   "outputs": [],
   "source": [
    "#teht"
   ]
  },
  {
   "attachments": {},
   "cell_type": "markdown",
   "metadata": {},
   "source": [
    "## osajonot hakasuluissa [ : ]\n",
    "\n",
    "- laskee mukaan ensimmäisen eli tässä tapauksessa indeksi 1, mutta ei viimeistä eli indeksi 5\n",
    "\n",
    "print(sana[1:5]) \n",
    "\n",
    "- jos alkukohta puuttuu, oletetaan, että se on 0\n",
    "\n",
    "print(sana[:2])\n",
    "\n",
    "- jos loppukohta puuttuu oletetaan, että se on merkkijonon pituus\n",
    "\n",
    "print(sana[2:])"
   ]
  },
  {
   "cell_type": "code",
   "execution_count": 17,
   "metadata": {},
   "outputs": [
    {
     "name": "stdout",
     "output_type": "stream",
     "text": [
      "erkk\n",
      "me\n",
      "rkkijono\n"
     ]
    }
   ],
   "source": [
    "# esim\n",
    "sana = \"merkkijono\" #input(\"Anna merkkijono: \")\n",
    "print(sana[1:5])\n",
    "print(sana[:2])\n",
    "print(sana[2:])"
   ]
  },
  {
   "cell_type": "markdown",
   "metadata": {},
   "source": [
    "# osajonon etsiminen\n",
    "\n",
    "- in-operaattorin avulla\n",
    "- find() metodi\n",
    "- indeksointi"
   ]
  },
  {
   "cell_type": "code",
   "execution_count": 18,
   "metadata": {},
   "outputs": [
    {
     "name": "stdout",
     "output_type": "stream",
     "text": [
      "True\n",
      "False\n",
      "True\n",
      "False\n"
     ]
    }
   ],
   "source": [
    "# Esim. in-operaattori\n",
    "mjono = \"testi\"\n",
    "\n",
    "print(\"t\" in mjono)\n",
    "print(\"x\" in mjono)\n",
    "print(\"est\" in mjono)\n",
    "print(\"ets\" in mjono)"
   ]
  },
  {
   "attachments": {},
   "cell_type": "markdown",
   "metadata": {},
   "source": [
    "find()\n",
    "\n",
    "rfind()\n",
    "\n",
    "palauttaa merkkijonon indeksin joko alusta tai lopusta lähtien"
   ]
  },
  {
   "cell_type": "code",
   "execution_count": 19,
   "metadata": {},
   "outputs": [
    {
     "name": "stdout",
     "output_type": "stream",
     "text": [
      "10\n",
      "93\n"
     ]
    }
   ],
   "source": [
    "# Esim.\n",
    "\n",
    "esimTeksti2= \"Parametrille on mahdollista lisätä jonkun oletus arvo jos kutsuttaessa ei annetaan mitään sille\"\n",
    "\n",
    "#le\n",
    "\n",
    "eka = esimTeksti2.find('le')\n",
    "toka = esimTeksti2.rfind('le')\n",
    "print(eka)\n",
    "print(toka)"
   ]
  },
  {
   "attachments": {},
   "cell_type": "markdown",
   "metadata": {},
   "source": [
    "TEHT 5. Ensimmäisen osajonon haku / MOOC\n",
    "\n",
    "Tee ohjelma, joka kysyy käyttäjältä merkkijonoa ja yksittäistä merkkiä. Ohjelma tulostaa merkkijonosta löytyvän ensimmäisen kolmen merkin pituisen osajonon, jonka alkukirjain on käyttäjän syöttämä merkki. Voit olettaa, että merkkijono on vähintään kolmen merkin pituinen.\n",
    "\n",
    "Esimerkkitulostus\n",
    "\n",
    "    Sana: apinatalo\n",
    "    Merkki: a\n",
    "    api\n",
    "\n",
    "    Sana: banaani\n",
    "    Merkki: n\n",
    "    naa\n",
    "\n",
    "    Sana: tomaatti\n",
    "    Merkki: x\n",
    "\n",
    "    Sana: python\n",
    "    Merkki: n"
   ]
  },
  {
   "cell_type": "code",
   "execution_count": 20,
   "metadata": {},
   "outputs": [],
   "source": [
    "#teht"
   ]
  },
  {
   "attachments": {},
   "cell_type": "markdown",
   "metadata": {},
   "source": [
    "TEHT 6. Monen osajonon haku /MOOC\n",
    "\n",
    "Tee edellisestä ohjelmasta laajennettu versio, joka tulostaa kaikki merkkijonon sisältämät kolmen merkin pituiset osajonot, joiden alkukirjain on käyttäjän syöttämä merkki. Voit olettaa, että merkkijono on vähintään kolmen merkin pituinen.\n",
    "\n",
    "Esimerkkitulostus\n",
    "    \n",
    "    Sana: apinatalo\n",
    "    Merkki: a\n",
    "    api\n",
    "    ata\n",
    "    alo\n",
    "\n",
    "    Sana: banaani\n",
    "    Merkki: n\n",
    "    naa\n",
    "\n",
    "Vihje seuraava esimerkki saattaa antaa jotain inspiraatiota eräästä tavasta miten tätä tehtävää voi lähestyä\n",
    "\n",
    "    sana = input(\"Sana: \")\n",
    "    while True:\n",
    "        if len(sana) == 0:\n",
    "            break\n",
    "        print(sana)\n",
    "        sana = sana[2:]\n",
    "    \n",
    "Esimerkkitulostus\n",
    "\n",
    "    Sana: apinatalo\n",
    "    apinatalo\n",
    "    inatalo\n",
    "    atalo\n",
    "    alo\n",
    "    o"
   ]
  },
  {
   "cell_type": "code",
   "execution_count": 22,
   "metadata": {},
   "outputs": [],
   "source": [
    "#teht"
   ]
  },
  {
   "cell_type": "markdown",
   "metadata": {},
   "source": [
    "count()\n",
    "\n",
    "laskee kuinka monta kertaa haluttu merkkijono esiintyy tekstissä"
   ]
  },
  {
   "cell_type": "code",
   "execution_count": 25,
   "metadata": {},
   "outputs": [
    {
     "data": {
      "text/plain": [
       "3"
      ]
     },
     "execution_count": 25,
     "metadata": {},
     "output_type": "execute_result"
    }
   ],
   "source": [
    "#esim\n",
    "esimTeksti= \"Parametrille on mahdollista lisätä jonkun oletus arvo jos kutsuttaessa ei annetaan mitään sille\"\n",
    "\n",
    "# \"le\"\n",
    "\n",
    "count = esimTeksti.count('le')\n",
    "count"
   ]
  },
  {
   "cell_type": "markdown",
   "metadata": {},
   "source": [
    "join() iteroi ja liittää uuteen\n",
    "\n",
    "reversed() lukee lopusta alkuun"
   ]
  },
  {
   "attachments": {},
   "cell_type": "markdown",
   "metadata": {},
   "source": [
    "TEHT 7. \n",
    "\n",
    "tulosta lopusta alkuun sana 'parametri'\n",
    "\n",
    "esimerkkitulostus:\n",
    "\n",
    "irtemarap\n",
    "\n",
    "- käytä join() ja reversed()\n",
    "- tee sama merkkijonon indeksihaulla [ : ]"
   ]
  },
  {
   "cell_type": "code",
   "execution_count": 7,
   "metadata": {},
   "outputs": [
    {
     "name": "stdout",
     "output_type": "stream",
     "text": [
      "irtemarap\n",
      "itmrp\n"
     ]
    }
   ],
   "source": [
    "#teht\n",
    "sana = \"parametri\"\n",
    "\n",
    "for i in reversed(sana):\n",
    "    print(i, end=\"\")\n",
    "    \n",
    "    \n",
    "print()\n",
    "\"\".join(reversed(\"parametri\"))\n",
    "\n",
    "\n",
    "print(sana[::-2])"
   ]
  },
  {
   "attachments": {},
   "cell_type": "markdown",
   "metadata": {},
   "source": [
    "Teht 8. String lists / Palindromi\n",
    "\n",
    "Tee ohjelma, joka kysyy sanoja niin kauan kunnes käyttäjä syöttää sanan, joka  on palindromi. \n",
    "\n",
    "Jos merkkijono on palindromi se voidaan lukea alusta loppuun tai lopusta alkuun.\n",
    "\n",
    "Tee myös funktiota hyödyntävä pääohjelma, joka kyselee käyttäjältä sanoja niin kauan, kunnes käyttäjä syöttää palindromin:\n",
    "\n",
    "Esimerkkitulostus\n",
    "\n",
    "    Anna palindromi: python\n",
    "    python ei ole palindromi\n",
    "    Anna palindromi: saippuakauppias\n",
    "    saippuakauppias on palindromi!\n",
    "\n",
    "\n",
    "https://www.practicepython.org/exercise/2014/03/12/06-string-lists.html"
   ]
  },
  {
   "cell_type": "code",
   "execution_count": 28,
   "metadata": {},
   "outputs": [],
   "source": [
    "#teht"
   ]
  },
  {
   "cell_type": "markdown",
   "metadata": {},
   "source": [
    "title() ekat kirjaimet isoiksi\n",
    "\n",
    "lower() muuttaaa pieniksi kirjaimiksi\n",
    "\n",
    "upper() muuttaaa isoiksi kirjaimiksi\n",
    "\n",
    "islower() tarkistaa onko pieniä kirjaimia\n",
    "\n",
    "isupper() tarkistaa onko isoja kirjaimia\n",
    "\n",
    "isdigit() palauttaa luvun\n",
    "\n",
    "isalpha() palauttaa aakkosen"
   ]
  },
  {
   "attachments": {},
   "cell_type": "markdown",
   "metadata": {},
   "source": [
    "teht 9. \n",
    "\n",
    "Kysy käyttäjältä erikseen etunimi ja sukunimi.\n",
    "\n",
    "Yhdistä nimet samaan tulostukseen. Muuta ensimmäiset kirjaimet isoiksi."
   ]
  },
  {
   "cell_type": "code",
   "execution_count": 30,
   "metadata": {},
   "outputs": [],
   "source": [
    "#teht"
   ]
  },
  {
   "attachments": {},
   "cell_type": "markdown",
   "metadata": {},
   "source": [
    "Teht 10. \n",
    "\n",
    "järjestä sana niin, että pienet kirjaimet tulevat alkuun ja isot kirjaimet tulee loppuun. Esimerkkisana \"TaitotaloHelsinki\"\n",
    "\n",
    "Esimerkkitulostus\n",
    "\n",
    "    aitotaloelsinkiTH"
   ]
  },
  {
   "attachments": {},
   "cell_type": "markdown",
   "metadata": {},
   "source": [
    "TEHT 11. \n",
    "\n",
    "Laske kuinka monta kirjainta, lukua tai erikoismerkkiä sanassa on. Tulosta määrä ja merkit.\n",
    "\n",
    "\"9iJ4d7&Oskfbu6hkP7O!%L0#1@yzL\""
   ]
  },
  {
   "cell_type": "code",
   "execution_count": 33,
   "metadata": {},
   "outputs": [],
   "source": [
    "#Teht"
   ]
  },
  {
   "cell_type": "markdown",
   "metadata": {},
   "source": [
    "split()\n",
    "\n",
    "jakaa stringin listaksi"
   ]
  },
  {
   "cell_type": "code",
   "execution_count": 35,
   "metadata": {},
   "outputs": [
    {
     "name": "stdout",
     "output_type": "stream",
     "text": [
      "['Parametrille', 'on', 'mahdollista', 'lisätä', 'jonkun', 'oletus', 'arvo']\n",
      "Parametrille\n",
      "on\n",
      "mahdollista\n",
      "lisätä\n",
      "jonkun\n",
      "oletus\n",
      "arvo\n"
     ]
    }
   ],
   "source": [
    "#Esim.\n",
    "\n",
    "\n",
    "esimTeksti2= \"Parametrille-on-mahdollista-lisätä-jonkun-oletus-arvo\"\n",
    "\n",
    "splitattu = esimTeksti2.split(\"-\")\n",
    "\n",
    "print(splitattu)\n",
    "\n",
    "for sana in splitattu:\n",
    "    print(sana)"
   ]
  },
  {
   "cell_type": "markdown",
   "metadata": {},
   "source": [
    "strip()\n",
    "\n",
    "rstrip()\n",
    "\n",
    "lstrip()\n",
    "\n",
    "poistaa alusta ja lopusta"
   ]
  },
  {
   "cell_type": "code",
   "execution_count": 36,
   "metadata": {},
   "outputs": [
    {
     "name": "stdout",
     "output_type": "stream",
     "text": [
      "merkit 9iJ4d7&Oskfbu6hkP7O!%L0#1@yzL\n",
      "merkit stripattu iJ4d7&Oskfbu6hkP7O!%L0#1@yz\n",
      "merkit2 välilyönnit alussa ja lopussa  9iJ4d7&Oskfbu6hkP7O!%L0#1@yzL \n",
      "merkit2 9iJ4d7&Oskfbu6hkP7O!%L0#1@yzL\n",
      "merkit2 vasen 9iJ4d7&Oskfbu6hkP7O!%L0#1@yzL \n",
      "merkit2 oikea 9iJ4d7&Oskfbu6hkP7O!%L0#1@yzL\n"
     ]
    }
   ],
   "source": [
    "#ESIM.\n",
    "\n",
    "merkit = \"9iJ4d7&Oskfbu6hkP7O!%L0#1@yzL\"\n",
    "print('merkit', merkit)\n",
    "\n",
    "stripattu = merkit.strip('9,L')\n",
    "print('merkit stripattu', stripattu)\n",
    "\n",
    "merkit2 = \" 9iJ4d7&Oskfbu6hkP7O!%L0#1@yzL \"\n",
    "\n",
    "stripattu1 = merkit2.strip()\n",
    "stripattu2 = merkit2.lstrip()\n",
    "stripattu3 = merkit.rstrip()\n",
    "\n",
    "\n",
    "print('merkit2 välilyönnit alussa ja lopussa', merkit2)\n",
    "print('merkit2', stripattu1)\n",
    "print('merkit2 vasen', stripattu2)\n",
    "print('merkit2 oikea', stripattu3)"
   ]
  },
  {
   "attachments": {},
   "cell_type": "markdown",
   "metadata": {},
   "source": [
    "TEHT. 12 lisää Strip esimerkiksi palindromi-tehtävään 8( myös tehtävät 1 ja 6)"
   ]
  },
  {
   "cell_type": "markdown",
   "metadata": {},
   "source": [
    "replace()\n",
    "\n",
    "korvaa uudella merkkijonolla"
   ]
  },
  {
   "cell_type": "code",
   "execution_count": null,
   "metadata": {},
   "outputs": [],
   "source": [
    "#Esim.\n",
    "tervehdys = \"Hello, World!\"\n",
    "print(tervehdys.replace(\"Hello\", \"Hi\"))"
   ]
  },
  {
   "attachments": {},
   "cell_type": "markdown",
   "metadata": {},
   "source": [
    "TEHT 13. \n",
    "\n",
    "Tallenna Twinkle, Twinkle muuttujaan ja korvaa siinä joku sana. Esimerkiksi twinkle > sparkle"
   ]
  },
  {
   "cell_type": "code",
   "execution_count": null,
   "metadata": {},
   "outputs": [],
   "source": [
    "# teht."
   ]
  },
  {
   "attachments": {},
   "cell_type": "markdown",
   "metadata": {},
   "source": [
    "Lisää tehtäviä:\n",
    "\n",
    "kivi, paperi, sakset while-looppina\n",
    "\n",
    "https://www.practicepython.org/solution/2014/04/02/08-rock-paper-scissors-solutions.html\n",
    "\n",
    "MOOC 2023\n",
    "\n",
    "https://ohjelmointi-23.mooc.fi/osa-3"
   ]
  }
 ],
 "metadata": {
  "kernelspec": {
   "display_name": "Python 3",
   "language": "python",
   "name": "python3"
  },
  "language_info": {
   "codemirror_mode": {
    "name": "ipython",
    "version": 3
   },
   "file_extension": ".py",
   "mimetype": "text/x-python",
   "name": "python",
   "nbconvert_exporter": "python",
   "pygments_lexer": "ipython3",
   "version": "3.10.0"
  },
  "orig_nbformat": 4,
  "vscode": {
   "interpreter": {
    "hash": "aee8b7b246df8f9039afb4144a1f6fd8d2ca17a180786b69acc140d282b71a49"
   }
  }
 },
 "nbformat": 4,
 "nbformat_minor": 2
}
